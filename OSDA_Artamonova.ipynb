{
 "nbformat": 4,
 "nbformat_minor": 0,
 "metadata": {
  "colab": {
   "provenance": []
  },
  "kernelspec": {
   "name": "python3",
   "display_name": "Python 3 (ipykernel)",
   "language": "python"
  },
  "language_info": {
   "name": "python"
  }
 },
 "cells": [
  {
   "cell_type": "markdown",
   "source": "Датасет",
   "metadata": {
    "id": "nBieHU1G1Htx"
   }
  },
  {
   "metadata": {
    "ExecuteTime": {
     "end_time": "2024-12-07T12:08:50.224603Z",
     "start_time": "2024-12-07T12:08:50.109575Z"
    }
   },
   "cell_type": "code",
   "source": [
    "!pip install scikit-learn\n",
    "\n",
    "import os\n",
    "\n",
    "import warnings\n",
    "from sklearn.exceptions import DataConversionWarning, ConvergenceWarning, FitFailedWarning\n",
    "\n",
    "warnings.filterwarnings(\"ignore\", category=DataConversionWarning)\n",
    "warnings.filterwarnings(\"ignore\", category=ConvergenceWarning)\n",
    "warnings.filterwarnings(\"ignore\", category=FitFailedWarning)\n",
    "\n",
    "import numpy as np\n",
    "import pandas as pd\n",
    "import seaborn as sns\n",
    "import matplotlib.pyplot as plt\n",
    "\n",
    "from collections import Counter\n",
    "\n",
    "data_2 = pd.read_csv('NeuralFCA/data/stackoverflow_full.csv')\n",
    "res = pd.DataFrame()\n",
    "data_2 = data_2.head(100)\n",
    "data_2 = data_2.drop(['HaveWorkedWith'],axis=1)\n",
    "data_2 = pd.get_dummies(data_2)"
   ],
   "outputs": [],
   "execution_count": 128
  },
  {
   "metadata": {
    "ExecuteTime": {
     "end_time": "2024-12-07T12:04:00.438954Z",
     "start_time": "2024-12-07T12:04:00.435377Z"
    }
   },
   "cell_type": "code",
   "source": [
    "import numpy as np\n",
    "\n",
    "X_2 = data_2.drop(['Employed'],axis=1)\n",
    "y_2 = data_2['Employed'].values.ravel()"
   ],
   "outputs": [],
   "execution_count": 121
  },
  {
   "metadata": {
    "ExecuteTime": {
     "end_time": "2024-12-07T11:29:25.549902Z",
     "start_time": "2024-12-07T11:28:29.135149Z"
    }
   },
   "cell_type": "markdown",
   "source": "## 2.1 DecisionTreeClassifier"
  },
  {
   "cell_type": "code",
   "source": [
    "from sklearn.tree import DecisionTreeClassifier\n",
    "from sklearn.metrics import f1_score\n",
    "\n",
    "clf = DecisionTreeClassifier()\n",
    "grid_space={'max_depth':[2, 3, 5, 7, 10],\n",
    "            'min_samples_split':[2, 3, 5, 7, 10]}"
   ],
   "metadata": {
    "colab": {
     "base_uri": "https://localhost:8080/",
     "height": 513
    },
    "id": "zsMXgW4dgH26",
    "outputId": "376eec83-9a14-4bf5-f995-42531afd1ccb",
    "ExecuteTime": {
     "end_time": "2024-12-07T11:53:41.917772Z",
     "start_time": "2024-12-07T11:53:41.915071Z"
    }
   },
   "outputs": [],
   "execution_count": 114
  },
  {
   "cell_type": "code",
   "source": [
    "from sklearn.model_selection import GridSearchCV\n",
    "\n",
    "grid = GridSearchCV(clf,param_grid=grid_space,cv=3,scoring='accuracy')\n",
    "model_grid_acc = grid.fit(X_2,y_2)"
   ],
   "metadata": {
    "id": "VxK4z8V21H6r",
    "ExecuteTime": {
     "end_time": "2024-12-07T11:49:08.076492Z",
     "start_time": "2024-12-07T11:49:07.580437Z"
    }
   },
   "outputs": [],
   "execution_count": 112
  },
  {
   "metadata": {},
   "cell_type": "code",
   "outputs": [],
   "execution_count": null,
   "source": [
    "print('Best hyperparameters are: '+str(model_grid_acc.best_params_))\n",
    "print('Best accuracy is: '+str(model_grid_acc.best_score_))"
   ]
  },
  {
   "cell_type": "code",
   "source": [
    "from sklearn.metrics import make_scorer\n",
    "\n",
    "grid = GridSearchCV(clf,param_grid=grid_space,cv=3,scoring=make_scorer(f1_score , average='macro'))\n",
    "model_grid_f1 = grid.fit(X_2,y_2)"
   ],
   "metadata": {
    "id": "C5YBkICKhj9_",
    "ExecuteTime": {
     "end_time": "2024-12-07T11:37:23.936482Z",
     "start_time": "2024-12-07T11:37:23.706100Z"
    }
   },
   "outputs": [],
   "execution_count": 92
  },
  {
   "cell_type": "code",
   "source": [
    "print('Best hyperparameters are: '+str(model_grid_f1.best_params_))\n",
    "print('Best f1 score is: '+str(model_grid_f1.best_score_))"
   ],
   "metadata": {
    "id": "-bSPH6mwhkOE",
    "ExecuteTime": {
     "end_time": "2024-12-07T11:37:27.688324Z",
     "start_time": "2024-12-07T11:37:27.685596Z"
    }
   },
   "outputs": [
    {
     "name": "stdout",
     "output_type": "stream",
     "text": [
      "Best hyperparameters are: {'max_depth': 2, 'min_samples_split': 2}\n",
      "Best f1 score is: 0.7409285159285158\n"
     ]
    }
   ],
   "execution_count": 93
  },
  {
   "cell_type": "code",
   "source": "res[4] = [clf, '2', str(model_grid_acc.best_params_), round(model_grid_acc.best_score_, 5), round(model_grid_f1.best_score_, 5)]",
   "metadata": {
    "id": "cBYoPf94dwAB",
    "ExecuteTime": {
     "end_time": "2024-12-07T11:37:36.768889Z",
     "start_time": "2024-12-07T11:37:36.764903Z"
    }
   },
   "outputs": [],
   "execution_count": 96
  },
  {
   "cell_type": "code",
   "source": "res.T",
   "metadata": {
    "colab": {
     "base_uri": "https://localhost:8080/"
    },
    "id": "8I4ReJVsdwCp",
    "outputId": "066dc206-ced0-453f-a094-e6c00f244586",
    "ExecuteTime": {
     "end_time": "2024-12-07T11:37:40.431216Z",
     "start_time": "2024-12-07T11:37:40.425822Z"
    }
   },
   "outputs": [
    {
     "data": {
      "text/plain": [
       "                          0  1                                         2  \\\n",
       "4  DecisionTreeClassifier()  2  {'max_depth': 2, 'min_samples_split': 2}   \n",
       "\n",
       "         3        4  \n",
       "4  0.74955  0.74093  "
      ],
      "text/html": [
       "<div>\n",
       "<style scoped>\n",
       "    .dataframe tbody tr th:only-of-type {\n",
       "        vertical-align: middle;\n",
       "    }\n",
       "\n",
       "    .dataframe tbody tr th {\n",
       "        vertical-align: top;\n",
       "    }\n",
       "\n",
       "    .dataframe thead th {\n",
       "        text-align: right;\n",
       "    }\n",
       "</style>\n",
       "<table border=\"1\" class=\"dataframe\">\n",
       "  <thead>\n",
       "    <tr style=\"text-align: right;\">\n",
       "      <th></th>\n",
       "      <th>0</th>\n",
       "      <th>1</th>\n",
       "      <th>2</th>\n",
       "      <th>3</th>\n",
       "      <th>4</th>\n",
       "    </tr>\n",
       "  </thead>\n",
       "  <tbody>\n",
       "    <tr>\n",
       "      <th>4</th>\n",
       "      <td>DecisionTreeClassifier()</td>\n",
       "      <td>2</td>\n",
       "      <td>{'max_depth': 2, 'min_samples_split': 2}</td>\n",
       "      <td>0.74955</td>\n",
       "      <td>0.74093</td>\n",
       "    </tr>\n",
       "  </tbody>\n",
       "</table>\n",
       "</div>"
      ]
     },
     "execution_count": 98,
     "metadata": {},
     "output_type": "execute_result"
    }
   ],
   "execution_count": 98
  },
  {
   "metadata": {},
   "cell_type": "markdown",
   "source": "## 2.2 RandomForestClassifier"
  },
  {
   "cell_type": "code",
   "source": [
    "from sklearn.ensemble import RandomForestClassifier\n",
    "from sklearn.metrics import f1_score\n",
    "\n",
    "clf = RandomForestClassifier()"
   ],
   "metadata": {
    "colab": {
     "base_uri": "https://localhost:8080/"
    },
    "id": "a0ihRo8CdwH4",
    "outputId": "9d06b7da-0ccf-43d7-e717-8ff68db4b7ff",
    "ExecuteTime": {
     "end_time": "2024-12-07T11:37:46.648420Z",
     "start_time": "2024-12-07T11:37:46.616473Z"
    }
   },
   "outputs": [],
   "execution_count": 99
  },
  {
   "cell_type": "code",
   "source": [
    "grid_space={'max_depth':[2, 3, 5, 7, 10],\n",
    "            'min_samples_split':[2, 3, 5, 7, 10],\n",
    "            'n_estimators':[10, 50, 100, 200]}"
   ],
   "metadata": {
    "id": "9vkdI2SLeAtO",
    "ExecuteTime": {
     "end_time": "2024-12-07T11:37:48.876297Z",
     "start_time": "2024-12-07T11:37:48.874216Z"
    }
   },
   "outputs": [],
   "execution_count": 100
  },
  {
   "cell_type": "code",
   "source": [
    "from sklearn.model_selection import GridSearchCV\n",
    "\n",
    "grid = GridSearchCV(clf,param_grid=grid_space,cv=3,scoring='accuracy')\n",
    "model_grid_acc = grid.fit(X_2,y_2)"
   ],
   "metadata": {
    "colab": {
     "base_uri": "https://localhost:8080/",
     "height": 206
    },
    "id": "2Z39YfqaeAyY",
    "outputId": "473e77ec-b9a2-4b1d-82bf-a1991b77756e",
    "ExecuteTime": {
     "end_time": "2024-12-07T11:38:01.320275Z",
     "start_time": "2024-12-07T11:37:50.194505Z"
    }
   },
   "outputs": [],
   "execution_count": 101
  },
  {
   "metadata": {},
   "cell_type": "code",
   "outputs": [],
   "execution_count": null,
   "source": [
    "print('Best hyperparameters are: '+str(model_grid_acc.best_params_))\n",
    "print('Best accuracy is: '+str(model_grid_acc.best_score_))"
   ]
  },
  {
   "cell_type": "code",
   "source": [
    "from sklearn.metrics import make_scorer\n",
    "\n",
    "grid = GridSearchCV(clf,param_grid=grid_space,cv=3,scoring=make_scorer(f1_score , average='macro'))\n",
    "model_grid_f1 = grid.fit(X_2,y_2)"
   ],
   "metadata": {
    "id": "aI20_cvYh6FL",
    "ExecuteTime": {
     "end_time": "2024-12-07T11:38:25.742737Z",
     "start_time": "2024-12-07T11:38:14.503986Z"
    }
   },
   "outputs": [],
   "execution_count": 103
  },
  {
   "cell_type": "code",
   "source": [
    "print('Best hyperparameters are: '+str(model_grid_f1.best_params_))\n",
    "print('Best f1 score is: '+str(model_grid_f1.best_score_))"
   ],
   "metadata": {
    "id": "OZp_wyQsh6K_"
   },
   "execution_count": null,
   "outputs": []
  },
  {
   "cell_type": "code",
   "source": [
    "res[5] = [clf, '2', str(model_grid_acc.best_params_), round(model_grid_acc.best_score_, 5), round(model_grid_f1.best_score_, 5)]\n",
    "res.T"
   ],
   "metadata": {
    "id": "NCSahtUlh6Pm",
    "colab": {
     "base_uri": "https://localhost:8080/"
    },
    "outputId": "2ce9e21b-038b-4ce2-ddff-e4d6e208c4e7",
    "ExecuteTime": {
     "end_time": "2024-12-07T12:06:29.219299Z",
     "start_time": "2024-12-07T12:06:29.212104Z"
    }
   },
   "outputs": [
    {
     "data": {
      "text/plain": [
       "                          0  1                                   2        3  \\\n",
       "5  DecisionTreeClassifier()  2  {'max_iter': 250, 'penalty': 'l2'}  0.82977   \n",
       "\n",
       "         4  \n",
       "5  0.82512  "
      ],
      "text/html": [
       "<div>\n",
       "<style scoped>\n",
       "    .dataframe tbody tr th:only-of-type {\n",
       "        vertical-align: middle;\n",
       "    }\n",
       "\n",
       "    .dataframe tbody tr th {\n",
       "        vertical-align: top;\n",
       "    }\n",
       "\n",
       "    .dataframe thead th {\n",
       "        text-align: right;\n",
       "    }\n",
       "</style>\n",
       "<table border=\"1\" class=\"dataframe\">\n",
       "  <thead>\n",
       "    <tr style=\"text-align: right;\">\n",
       "      <th></th>\n",
       "      <th>0</th>\n",
       "      <th>1</th>\n",
       "      <th>2</th>\n",
       "      <th>3</th>\n",
       "      <th>4</th>\n",
       "    </tr>\n",
       "  </thead>\n",
       "  <tbody>\n",
       "    <tr>\n",
       "      <th>5</th>\n",
       "      <td>DecisionTreeClassifier()</td>\n",
       "      <td>2</td>\n",
       "      <td>{'max_iter': 250, 'penalty': 'l2'}</td>\n",
       "      <td>0.82977</td>\n",
       "      <td>0.82512</td>\n",
       "    </tr>\n",
       "  </tbody>\n",
       "</table>\n",
       "</div>"
      ]
     },
     "execution_count": 126,
     "metadata": {},
     "output_type": "execute_result"
    }
   ],
   "execution_count": 126
  },
  {
   "metadata": {},
   "cell_type": "markdown",
   "source": "## 2.3 GradientBoostingClassifier"
  },
  {
   "cell_type": "code",
   "source": [
    "from sklearn.ensemble import GradientBoostingClassifier\n",
    "from sklearn.metrics import f1_score\n",
    "\n",
    "clf = GradientBoostingClassifier(random_state=0)"
   ],
   "metadata": {
    "colab": {
     "base_uri": "https://localhost:8080/"
    },
    "id": "qXz96aJdh__P",
    "outputId": "014693ab-9a22-4b09-fb80-a078758257ae",
    "ExecuteTime": {
     "end_time": "2024-12-07T12:21:23.039855Z",
     "start_time": "2024-12-07T12:21:23.037327Z"
    }
   },
   "outputs": [],
   "execution_count": 165
  },
  {
   "cell_type": "code",
   "source": [
    "grid_space={'max_depth':[2, 3, 5, 7, 10],\n",
    "            'learning_rate':[0.2, 0.3, 0.5, 0.7, 1.0],\n",
    "            'n_estimators':[10, 50, 100, 200]}"
   ],
   "metadata": {
    "id": "lqU_RPXKh6TS"
   },
   "execution_count": null,
   "outputs": []
  },
  {
   "cell_type": "code",
   "source": [
    "from sklearn.model_selection import GridSearchCV\n",
    "\n",
    "grid = GridSearchCV(clf,param_grid=grid_space,cv=3,scoring='accuracy')\n",
    "model_grid_acc = grid.fit(X_2,y_2)"
   ],
   "metadata": {
    "colab": {
     "base_uri": "https://localhost:8080/",
     "height": 238
    },
    "id": "yYWgsThFh6YE",
    "outputId": "83378cc9-0234-4ee1-d57e-65ed1faf0e48",
    "ExecuteTime": {
     "end_time": "2024-12-07T11:39:03.100192Z",
     "start_time": "2024-12-07T11:38:52.160299Z"
    }
   },
   "outputs": [],
   "execution_count": 104
  },
  {
   "metadata": {},
   "cell_type": "code",
   "outputs": [],
   "execution_count": null,
   "source": [
    "print('Best hyperparameters are: '+str(model_grid_acc.best_params_))\n",
    "print('Best accuracy is: '+str(model_grid_acc.best_score_))"
   ]
  },
  {
   "cell_type": "code",
   "source": [
    "from sklearn.metrics import make_scorer\n",
    "\n",
    "grid = GridSearchCV(clf,param_grid=grid_space,cv=3,scoring=make_scorer(f1_score , average='macro'))\n",
    "model_grid_f1 = grid.fit(X_2,y_2)"
   ],
   "metadata": {
    "id": "EgKP8BijjI8y",
    "ExecuteTime": {
     "end_time": "2024-12-07T11:39:21.463457Z",
     "start_time": "2024-12-07T11:39:10.111152Z"
    }
   },
   "outputs": [],
   "execution_count": 105
  },
  {
   "cell_type": "code",
   "source": [
    "print('Best hyperparameters are: '+str(model_grid_f1.best_params_))\n",
    "print('Best f1 score is: '+str(model_grid_f1.best_score_))"
   ],
   "metadata": {
    "id": "hPzWDqwejI_5",
    "ExecuteTime": {
     "end_time": "2024-12-07T12:20:24.991366Z",
     "start_time": "2024-12-07T12:20:24.987953Z"
    }
   },
   "outputs": [
    {
     "name": "stdout",
     "output_type": "stream",
     "text": [
      "Best hyperparameters are: {'max_iter': 250, 'penalty': 'l2'}\n",
      "Best f1 score is: 0.8251247554788074\n"
     ]
    }
   ],
   "execution_count": 156
  },
  {
   "cell_type": "code",
   "source": "res[6] = [GradientBoostingClassifier(), '2', str(model_grid_acc.best_params_), round(model_grid_acc.best_score_, 5), round(model_grid_f1.best_score_, 5)]",
   "metadata": {
    "id": "j5PVB4oujJDA",
    "colab": {
     "base_uri": "https://localhost:8080/"
    },
    "outputId": "74b293e3-92c7-4b75-fbda-a8c524edf9ec",
    "ExecuteTime": {
     "end_time": "2024-12-07T12:21:30.243047Z",
     "start_time": "2024-12-07T12:21:30.239802Z"
    }
   },
   "outputs": [],
   "execution_count": 178
  },
  {
   "cell_type": "code",
   "source": "res.T",
   "metadata": {
    "colab": {
     "base_uri": "https://localhost:8080/"
    },
    "id": "dDGNyXPujJGC",
    "outputId": "4bcb0f95-7622-4817-ce70-4d14ea503da5"
   },
   "execution_count": null,
   "outputs": [
    {
     "output_type": "stream",
     "name": "stdout",
     "text": [
      "Best hyperparameters are: {'learning_rate': 0.3, 'max_depth': 2, 'n_estimators': 10}\n",
      "Best accuracy is: 0.8398692810457516\n"
     ]
    }
   ]
  },
  {
   "metadata": {},
   "cell_type": "markdown",
   "source": "## 2.4 LogisticRegression"
  },
  {
   "cell_type": "code",
   "source": [
    "from sklearn.linear_model import LogisticRegression\n",
    "from sklearn.metrics import f1_score\n",
    "\n",
    "clf = LogisticRegression()"
   ],
   "metadata": {
    "colab": {
     "base_uri": "https://localhost:8080/"
    },
    "id": "3fVroiQWjOlk",
    "outputId": "d9e0df32-cb85-4e86-92d5-8f0ef0221f9e",
    "ExecuteTime": {
     "end_time": "2024-12-07T11:39:31.186950Z",
     "start_time": "2024-12-07T11:39:31.184573Z"
    }
   },
   "outputs": [],
   "execution_count": 106
  },
  {
   "cell_type": "code",
   "source": [
    "grid_space={'penalty':['l1', 'l2', 'elasticnet', None],\n",
    "            'max_iter':[100, 250, 500, 1000]}"
   ],
   "metadata": {
    "id": "NRAFXDSIjQOv",
    "ExecuteTime": {
     "end_time": "2024-12-07T11:39:32.710150Z",
     "start_time": "2024-12-07T11:39:32.708111Z"
    }
   },
   "outputs": [],
   "execution_count": 107
  },
  {
   "cell_type": "code",
   "source": [
    "from sklearn.model_selection import GridSearchCV\n",
    "\n",
    "grid = GridSearchCV(clf,param_grid=grid_space,cv=3,scoring='accuracy')\n",
    "model_grid_acc = grid.fit(X_2,y_2)"
   ],
   "metadata": {
    "colab": {
     "base_uri": "https://localhost:8080/",
     "height": 269
    },
    "id": "3AuyviJxjOqA",
    "outputId": "4352b5be-a525-4b2a-a23d-19f34b347249",
    "ExecuteTime": {
     "end_time": "2024-12-07T11:39:34.839383Z",
     "start_time": "2024-12-07T11:39:34.295847Z"
    }
   },
   "outputs": [],
   "execution_count": 108
  },
  {
   "metadata": {},
   "cell_type": "code",
   "outputs": [],
   "execution_count": null,
   "source": [
    "print('Best hyperparameters are: '+str(model_grid_acc.best_params_))\n",
    "print('Best accuracy is: '+str(model_grid_acc.best_score_))"
   ]
  },
  {
   "cell_type": "code",
   "source": [
    "from sklearn.metrics import make_scorer\n",
    "\n",
    "grid = GridSearchCV(clf,param_grid=grid_space,cv=3,scoring=make_scorer(f1_score , average='macro'))\n",
    "model_grid_f1 = grid.fit(X_2,y_2)"
   ],
   "metadata": {
    "id": "ljbavEk6kEGx",
    "ExecuteTime": {
     "end_time": "2024-12-07T11:39:38.632833Z",
     "start_time": "2024-12-07T11:39:38.114991Z"
    }
   },
   "outputs": [],
   "execution_count": 109
  },
  {
   "cell_type": "code",
   "source": [
    "print('Best hyperparameters are: '+str(model_grid_f1.best_params_))\n",
    "print('Best f1 score is: '+str(model_grid_f1.best_score_))"
   ],
   "metadata": {
    "id": "mMbTFWzxkELT"
   },
   "execution_count": null,
   "outputs": []
  },
  {
   "cell_type": "code",
   "source": "res[7] = [clf, '2', str(model_grid_acc.best_params_), round(model_grid_acc.best_score_, 5), round(model_grid_f1.best_score_, 5)]",
   "metadata": {
    "id": "qiSrHw-zkEOX",
    "colab": {
     "base_uri": "https://localhost:8080/"
    },
    "outputId": "14c61ad9-fd22-4a53-c77a-025159456a57",
    "ExecuteTime": {
     "end_time": "2024-12-07T12:20:11.184115Z",
     "start_time": "2024-12-07T12:20:11.180575Z"
    }
   },
   "outputs": [],
   "execution_count": 138
  },
  {
   "cell_type": "code",
   "source": "res.T",
   "metadata": {
    "colab": {
     "base_uri": "https://localhost:8080/"
    },
    "id": "AoOdfV41kEQ1",
    "outputId": "8afa5fab-48de-4e63-e640-7f47ddf940b3",
    "ExecuteTime": {
     "end_time": "2024-12-07T12:18:49.692410Z",
     "start_time": "2024-12-07T12:18:49.686528Z"
    }
   },
   "outputs": [
    {
     "data": {
      "text/plain": [
       "                          0  1                                   2        3  \\\n",
       "7  DecisionTreeClassifier()  2  {'max_iter': 250, 'penalty': 'l2'}  0.82977   \n",
       "\n",
       "         4  \n",
       "7  0.82512  "
      ],
      "text/html": [
       "<div>\n",
       "<style scoped>\n",
       "    .dataframe tbody tr th:only-of-type {\n",
       "        vertical-align: middle;\n",
       "    }\n",
       "\n",
       "    .dataframe tbody tr th {\n",
       "        vertical-align: top;\n",
       "    }\n",
       "\n",
       "    .dataframe thead th {\n",
       "        text-align: right;\n",
       "    }\n",
       "</style>\n",
       "<table border=\"1\" class=\"dataframe\">\n",
       "  <thead>\n",
       "    <tr style=\"text-align: right;\">\n",
       "      <th></th>\n",
       "      <th>0</th>\n",
       "      <th>1</th>\n",
       "      <th>2</th>\n",
       "      <th>3</th>\n",
       "      <th>4</th>\n",
       "    </tr>\n",
       "  </thead>\n",
       "  <tbody>\n",
       "    <tr>\n",
       "      <th>7</th>\n",
       "      <td>DecisionTreeClassifier()</td>\n",
       "      <td>2</td>\n",
       "      <td>{'max_iter': 250, 'penalty': 'l2'}</td>\n",
       "      <td>0.82977</td>\n",
       "      <td>0.82512</td>\n",
       "    </tr>\n",
       "  </tbody>\n",
       "</table>\n",
       "</div>"
      ]
     },
     "execution_count": 134,
     "metadata": {},
     "output_type": "execute_result"
    }
   ],
   "execution_count": 134
  },
  {
   "metadata": {},
   "cell_type": "markdown",
   "source": ""
  },
  {
   "cell_type": "code",
   "source": [
    "print('Best hyperparameters are: '+str(model_grid_f1.best_params_))\n",
    "print('Best f1 score is: '+str(model_grid_f1.best_score_))"
   ],
   "metadata": {
    "colab": {
     "base_uri": "https://localhost:8080/"
    },
    "id": "e8Z32S3fkEWE",
    "outputId": "22c1e5b8-037c-4198-fa6a-4c1ba6ba3d55"
   },
   "execution_count": null,
   "outputs": [
    {
     "output_type": "stream",
     "name": "stdout",
     "text": [
      "Best hyperparameters are: {'max_iter': 250, 'penalty': 'l2'}\n",
      "Best f1 score is: 0.7230200556287514\n"
     ]
    }
   ]
  },
  {
   "cell_type": "code",
   "source": [
    "res[7] = [clf, '2', str(model_grid_acc.best_params_), round(model_grid_acc.best_score_, 5), round(model_grid_f1.best_score_, 5)]\n",
    "res.T"
   ],
   "metadata": {
    "id": "UG2DQ-9xkEYq",
    "ExecuteTime": {
     "end_time": "2024-12-07T12:19:01.004482Z",
     "start_time": "2024-12-07T12:19:00.997950Z"
    }
   },
   "outputs": [
    {
     "data": {
      "text/plain": [
       "                          0  1                                   2        3  \\\n",
       "7  DecisionTreeClassifier()  2  {'max_iter': 250, 'penalty': 'l2'}  0.82977   \n",
       "\n",
       "         4  \n",
       "7  0.82512  "
      ],
      "text/html": [
       "<div>\n",
       "<style scoped>\n",
       "    .dataframe tbody tr th:only-of-type {\n",
       "        vertical-align: middle;\n",
       "    }\n",
       "\n",
       "    .dataframe tbody tr th {\n",
       "        vertical-align: top;\n",
       "    }\n",
       "\n",
       "    .dataframe thead th {\n",
       "        text-align: right;\n",
       "    }\n",
       "</style>\n",
       "<table border=\"1\" class=\"dataframe\">\n",
       "  <thead>\n",
       "    <tr style=\"text-align: right;\">\n",
       "      <th></th>\n",
       "      <th>0</th>\n",
       "      <th>1</th>\n",
       "      <th>2</th>\n",
       "      <th>3</th>\n",
       "      <th>4</th>\n",
       "    </tr>\n",
       "  </thead>\n",
       "  <tbody>\n",
       "    <tr>\n",
       "      <th>7</th>\n",
       "      <td>DecisionTreeClassifier()</td>\n",
       "      <td>2</td>\n",
       "      <td>{'max_iter': 250, 'penalty': 'l2'}</td>\n",
       "      <td>0.82977</td>\n",
       "      <td>0.82512</td>\n",
       "    </tr>\n",
       "  </tbody>\n",
       "</table>\n",
       "</div>"
      ]
     },
     "execution_count": 137,
     "metadata": {},
     "output_type": "execute_result"
    }
   ],
   "execution_count": 137
  },
  {
   "metadata": {},
   "cell_type": "markdown",
   "source": ""
  }
 ]
}
